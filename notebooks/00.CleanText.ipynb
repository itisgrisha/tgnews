{
 "cells": [
  {
   "cell_type": "code",
   "execution_count": 1,
   "metadata": {},
   "outputs": [],
   "source": [
    "import os\n",
    "import re\n",
    "import csv\n",
    "import pandas as pd\n",
    "\n",
    "from tqdm import tqdm"
   ]
  },
  {
   "cell_type": "code",
   "execution_count": 2,
   "metadata": {},
   "outputs": [
    {
     "name": "stdout",
     "output_type": "stream",
     "text": [
      "20191101.tsv  20191106.tsv  20191111.tsv  20191116.tsv\t20191121.tsv\n",
      "20191102.tsv  20191107.tsv  20191112.tsv  20191117.tsv\t20191122.tsv\n",
      "20191103.tsv  20191108.tsv  20191113.tsv  20191118.tsv\t20191123.tsv\n",
      "20191104.tsv  20191109.tsv  20191114.tsv  20191119.tsv\t20191124.tsv\n",
      "20191105.tsv  20191110.tsv  20191115.tsv  20191120.tsv\t20191125.tsv\n"
     ]
    }
   ],
   "source": [
    "!ls /eee/tgnews/meta/all"
   ]
  },
  {
   "cell_type": "markdown",
   "metadata": {},
   "source": [
    "Папка */eee/tgnews/meta/all* содержит данные извлечённые из оригинальных *.xml.\n",
    "\n",
    "Далее отчистим тексты и запишим их в папку */eee/tgnews/meta/all_clean*."
   ]
  },
  {
   "cell_type": "code",
   "execution_count": 3,
   "metadata": {},
   "outputs": [],
   "source": [
    "def clean(text):\n",
    "    \n",
    "    text = re.sub('https*:\\S*', ' ', text) #удаляем ссылки\n",
    "    text = re.sub('[^\\w\\.\\!\\?\\(\\)\\-:;,]+', ' ', text) #удаляем все символы, кроме букв, цифр и знаков пунктуации\n",
    "    text = re.sub('\\s+', ' ', text) #заменяем все последовательности пробельных символов на один пробел\n",
    "    \n",
    "    return text.strip()"
   ]
  },
  {
   "cell_type": "code",
   "execution_count": 4,
   "metadata": {},
   "outputs": [
    {
     "name": "stderr",
     "output_type": "stream",
     "text": [
      "100%|██████████| 25/25 [05:13<00:00,  8.41s/it]\n"
     ]
    }
   ],
   "source": [
    "load_path = \"/eee/tgnews/meta/all\"\n",
    "dump_path = \"/eee/tgnews/meta/all_clean\"\n",
    "\n",
    "columns = [\"og:title\", \"og:description\", \"text\"]\n",
    "\n",
    "for table_name in tqdm(os.listdir(load_path)):\n",
    "    \n",
    "    table = pd.read_csv(os.path.join(load_path, table_name), sep='\\t', keep_default_na=False, quoting=csv.QUOTE_NONE)\n",
    "    \n",
    "    for column in columns:\n",
    "        table[column] = table[column].apply(clean)\n",
    "    \n",
    "    table.to_csv(os.path.join(dump_path, table_name), sep='\\t', index=False, quoting=csv.QUOTE_NONE)"
   ]
  },
  {
   "cell_type": "code",
   "execution_count": 5,
   "metadata": {},
   "outputs": [
    {
     "data": {
      "text/html": [
       "<div>\n",
       "<style scoped>\n",
       "    .dataframe tbody tr th:only-of-type {\n",
       "        vertical-align: middle;\n",
       "    }\n",
       "\n",
       "    .dataframe tbody tr th {\n",
       "        vertical-align: top;\n",
       "    }\n",
       "\n",
       "    .dataframe thead th {\n",
       "        text-align: right;\n",
       "    }\n",
       "</style>\n",
       "<table border=\"1\" class=\"dataframe\">\n",
       "  <thead>\n",
       "    <tr style=\"text-align: right;\">\n",
       "      <th></th>\n",
       "      <th>path</th>\n",
       "      <th>og:site_name</th>\n",
       "      <th>og:url</th>\n",
       "      <th>og:title</th>\n",
       "      <th>og:description</th>\n",
       "      <th>article:published_time</th>\n",
       "      <th>text</th>\n",
       "      <th>related_links</th>\n",
       "    </tr>\n",
       "  </thead>\n",
       "  <tbody>\n",
       "    <tr>\n",
       "      <th>0</th>\n",
       "      <td>/eee/tgnews/data/20191113/21/78958786282511225...</td>\n",
       "      <td>The Insider</td>\n",
       "      <td>https://theins.ru/news/187548</td>\n",
       "      <td>Бундестаг принял поправки к газовой директиве ...</td>\n",
       "      <td>Бундестаг большинством голосов принял поправки...</td>\n",
       "      <td>2019-11-13T21:27:32+00:00</td>\n",
       "      <td>Бундестаг большинством голосов принял поправки...</td>\n",
       "      <td></td>\n",
       "    </tr>\n",
       "  </tbody>\n",
       "</table>\n",
       "</div>"
      ],
      "text/plain": [
       "                                                path og:site_name  \\\n",
       "0  /eee/tgnews/data/20191113/21/78958786282511225...  The Insider   \n",
       "\n",
       "                          og:url  \\\n",
       "0  https://theins.ru/news/187548   \n",
       "\n",
       "                                            og:title  \\\n",
       "0  Бундестаг принял поправки к газовой директиве ...   \n",
       "\n",
       "                                      og:description  \\\n",
       "0  Бундестаг большинством голосов принял поправки...   \n",
       "\n",
       "      article:published_time  \\\n",
       "0  2019-11-13T21:27:32+00:00   \n",
       "\n",
       "                                                text related_links  \n",
       "0  Бундестаг большинством голосов принял поправки...                "
      ]
     },
     "execution_count": 5,
     "metadata": {},
     "output_type": "execute_result"
    }
   ],
   "source": [
    "table.head(1)"
   ]
  }
 ],
 "metadata": {
  "kernelspec": {
   "display_name": "Python 3",
   "language": "python",
   "name": "python3"
  },
  "language_info": {
   "codemirror_mode": {
    "name": "ipython",
    "version": 3
   },
   "file_extension": ".py",
   "mimetype": "text/x-python",
   "name": "python",
   "nbconvert_exporter": "python",
   "pygments_lexer": "ipython3",
   "version": "3.6.9"
  }
 },
 "nbformat": 4,
 "nbformat_minor": 4
}
