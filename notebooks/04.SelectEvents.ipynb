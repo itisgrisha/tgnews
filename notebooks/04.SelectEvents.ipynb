{
 "cells": [
  {
   "cell_type": "code",
   "execution_count": 10,
   "metadata": {},
   "outputs": [],
   "source": [
    "import artm\n",
    "\n",
    "from collections import Counter"
   ]
  },
  {
   "cell_type": "code",
   "execution_count": 11,
   "metadata": {},
   "outputs": [],
   "source": [
    "batch_vectorizer = artm.BatchVectorizer(data_path='../batches_ru', data_format='batches')\n",
    "\n",
    "dictionary = artm.Dictionary()\n",
    "dictionary.load(dictionary_path='../models/dictionary_ru.dict')"
   ]
  },
  {
   "cell_type": "code",
   "execution_count": null,
   "metadata": {},
   "outputs": [],
   "source": [
    "model = artm.ARTM(num_topics=1000, \n",
    "                  class_ids=[\"title_tokens\", \"text_tokens\"], \n",
    "                  dictionary=dictionary, \n",
    "                  theta_columns_naming=\"title\", \n",
    "                  cache_theta=True)\n",
    "\n",
    "model.regularizers.add(artm.TopicSelectionThetaRegularizer(tau=0.3, topic_names=model.topic_names[:-1]))\n",
    "\n",
    "model.regularizers.add(artm.SmoothSparsePhiRegularizer('SmoothPhi_back', tau=1, gamma=0, topic_names=model.topic_names[-1]))\n",
    "model.regularizers.add(artm.DecorrelatorPhiRegularizer('DecPhi', tau=0.1, gamma=0))\n",
    "\n",
    "model.fit_offline(batch_vectorizer=batch_vectorizer, num_collection_passes=5)"
   ]
  },
  {
   "cell_type": "code",
   "execution_count": null,
   "metadata": {},
   "outputs": [],
   "source": [
    "predict = model.get_theta().T.idxmax(axis=1)"
   ]
  },
  {
   "cell_type": "code",
   "execution_count": null,
   "metadata": {},
   "outputs": [],
   "source": [
    "Counter(predict.values)"
   ]
  },
  {
   "cell_type": "code",
   "execution_count": null,
   "metadata": {},
   "outputs": [],
   "source": []
  }
 ],
 "metadata": {
  "kernelspec": {
   "display_name": "Python 3",
   "language": "python",
   "name": "python3"
  },
  "language_info": {
   "codemirror_mode": {
    "name": "ipython",
    "version": 3
   },
   "file_extension": ".py",
   "mimetype": "text/x-python",
   "name": "python",
   "nbconvert_exporter": "python",
   "pygments_lexer": "ipython3",
   "version": "3.6.9"
  }
 },
 "nbformat": 4,
 "nbformat_minor": 4
}
