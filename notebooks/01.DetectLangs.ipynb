{
 "cells": [
  {
   "cell_type": "code",
   "execution_count": 63,
   "metadata": {},
   "outputs": [],
   "source": [
    "import os\n",
    "import csv\n",
    "import cld3\n",
    "import pandas as pd\n",
    "\n",
    "from tqdm import tqdm\n",
    "from itertools import chain\n",
    "\n",
    "tqdm.pandas()"
   ]
  },
  {
   "cell_type": "code",
   "execution_count": 2,
   "metadata": {},
   "outputs": [
    {
     "name": "stdout",
     "output_type": "stream",
     "text": [
      "20191101.tsv  20191106.tsv  20191111.tsv  20191116.tsv\t20191121.tsv\n",
      "20191102.tsv  20191107.tsv  20191112.tsv  20191117.tsv\t20191122.tsv\n",
      "20191103.tsv  20191108.tsv  20191113.tsv  20191118.tsv\t20191123.tsv\n",
      "20191104.tsv  20191109.tsv  20191114.tsv  20191119.tsv\t20191124.tsv\n",
      "20191105.tsv  20191110.tsv  20191115.tsv  20191120.tsv\t20191125.tsv\n"
     ]
    }
   ],
   "source": [
    "!ls /eee/tgnews/meta/all_clean"
   ]
  },
  {
   "cell_type": "code",
   "execution_count": 3,
   "metadata": {},
   "outputs": [],
   "source": [
    "def detect_lang(text):\n",
    "    \n",
    "    lang_pred = cld3.get_language(text)\n",
    "    \n",
    "    if lang_pred is not None:\n",
    "        return lang_pred.language\n",
    "    \n",
    "    return None"
   ]
  },
  {
   "cell_type": "code",
   "execution_count": 4,
   "metadata": {
    "collapsed": true,
    "jupyter": {
     "outputs_hidden": true
    }
   },
   "outputs": [
    {
     "name": "stderr",
     "output_type": "stream",
     "text": [
      "100%|██████████| 82168/82168 [00:45<00:00, 1804.48it/s]\n",
      "100%|██████████| 33686/33686 [00:18<00:00, 1869.99it/s]\n",
      "100%|██████████| 39811/39811 [00:21<00:00, 1879.05it/s]\n",
      "100%|██████████| 65288/65288 [00:35<00:00, 1840.27it/s]\n",
      "100%|██████████| 17025/17025 [00:09<00:00, 1855.26it/s]\n",
      "100%|██████████| 25336/25336 [00:13<00:00, 1846.80it/s]\n",
      "100%|██████████| 85834/85834 [00:47<00:00, 1801.92it/s]\n",
      "100%|██████████| 18171/18171 [00:09<00:00, 1846.85it/s]\n",
      "100%|██████████| 26492/26492 [00:14<00:00, 1816.35it/s]\n",
      "100%|██████████| 27382/27382 [00:14<00:00, 1841.26it/s]\n",
      "100%|██████████| 25337/25337 [00:13<00:00, 1818.82it/s]\n",
      "100%|██████████| 99066/99066 [00:54<00:00, 1811.50it/s]\n",
      "100%|██████████| 46523/46523 [00:24<00:00, 1874.77it/s]\n",
      "100%|██████████| 65066/65066 [00:35<00:00, 1845.61it/s]\n",
      "100%|██████████| 63752/63752 [00:34<00:00, 1839.48it/s]\n",
      "100%|██████████| 73818/73818 [00:40<00:00, 1833.48it/s]\n",
      "100%|██████████| 78129/78129 [00:42<00:00, 1822.57it/s]\n",
      "100%|██████████| 24997/24997 [00:13<00:00, 1860.20it/s]\n",
      "100%|██████████| 17257/17257 [00:09<00:00, 1861.12it/s]\n",
      "100%|██████████| 27279/27279 [00:14<00:00, 1824.44it/s]\n",
      "100%|██████████| 27398/27398 [00:14<00:00, 1826.69it/s]\n",
      "100%|██████████| 36016/36016 [00:19<00:00, 1866.72it/s]\n",
      "100%|██████████| 17424/17424 [00:09<00:00, 1827.08it/s]\n",
      "100%|██████████| 24618/24618 [00:13<00:00, 1822.15it/s]\n",
      "100%|██████████| 32731/32731 [00:17<00:00, 1840.75it/s]\n"
     ]
    }
   ],
   "source": [
    "load_path = \"/eee/tgnews/meta/all_clean\"\n",
    "dump_path = \"/eee/tgnews/meta/all_lang\"\n",
    "\n",
    "for table_name in os.listdir(load_path):\n",
    "    \n",
    "    table = pd.read_csv(os.path.join(load_path, table_name), sep='\\t', keep_default_na=False, quoting=csv.QUOTE_NONE)\n",
    "    table[\"lang\"] = table[\"text\"].progress_apply(detect_lang)\n",
    "    \n",
    "    table.to_csv(os.path.join(dump_path, table_name), sep='\\t', index=False, quoting=csv.QUOTE_NONE)"
   ]
  },
  {
   "cell_type": "code",
   "execution_count": 5,
   "metadata": {},
   "outputs": [
    {
     "data": {
      "text/html": [
       "<div>\n",
       "<style scoped>\n",
       "    .dataframe tbody tr th:only-of-type {\n",
       "        vertical-align: middle;\n",
       "    }\n",
       "\n",
       "    .dataframe tbody tr th {\n",
       "        vertical-align: top;\n",
       "    }\n",
       "\n",
       "    .dataframe thead th {\n",
       "        text-align: right;\n",
       "    }\n",
       "</style>\n",
       "<table border=\"1\" class=\"dataframe\">\n",
       "  <thead>\n",
       "    <tr style=\"text-align: right;\">\n",
       "      <th></th>\n",
       "      <th>path</th>\n",
       "      <th>og:site_name</th>\n",
       "      <th>og:url</th>\n",
       "      <th>og:title</th>\n",
       "      <th>og:description</th>\n",
       "      <th>article:published_time</th>\n",
       "      <th>text</th>\n",
       "      <th>related_links</th>\n",
       "      <th>lang</th>\n",
       "    </tr>\n",
       "  </thead>\n",
       "  <tbody>\n",
       "    <tr>\n",
       "      <th>0</th>\n",
       "      <td>/eee/tgnews/data/20191113/21/78958786282511225...</td>\n",
       "      <td>The Insider</td>\n",
       "      <td>https://theins.ru/news/187548</td>\n",
       "      <td>Бундестаг принял поправки к газовой директиве ...</td>\n",
       "      <td>Бундестаг большинством голосов принял поправки...</td>\n",
       "      <td>2019-11-13T21:27:32+00:00</td>\n",
       "      <td>Бундестаг большинством голосов принял поправки...</td>\n",
       "      <td></td>\n",
       "      <td>ru</td>\n",
       "    </tr>\n",
       "  </tbody>\n",
       "</table>\n",
       "</div>"
      ],
      "text/plain": [
       "                                                path og:site_name  \\\n",
       "0  /eee/tgnews/data/20191113/21/78958786282511225...  The Insider   \n",
       "\n",
       "                          og:url  \\\n",
       "0  https://theins.ru/news/187548   \n",
       "\n",
       "                                            og:title  \\\n",
       "0  Бундестаг принял поправки к газовой директиве ...   \n",
       "\n",
       "                                      og:description  \\\n",
       "0  Бундестаг большинством голосов принял поправки...   \n",
       "\n",
       "      article:published_time  \\\n",
       "0  2019-11-13T21:27:32+00:00   \n",
       "\n",
       "                                                text related_links lang  \n",
       "0  Бундестаг большинством голосов принял поправки...                 ru  "
      ]
     },
     "execution_count": 5,
     "metadata": {},
     "output_type": "execute_result"
    }
   ],
   "source": [
    "table.head(1)"
   ]
  },
  {
   "cell_type": "code",
   "execution_count": 54,
   "metadata": {},
   "outputs": [
    {
     "name": "stderr",
     "output_type": "stream",
     "text": [
      "100%|██████████| 25/25 [00:12<00:00,  2.96it/s]\n"
     ]
    }
   ],
   "source": [
    "#Считаем количество всевозможных языков для каждого источника\n",
    "\n",
    "load_path = \"/eee/tgnews/meta/all_lang\"\n",
    "\n",
    "site_langs = {}\n",
    "for table_name in tqdm(os.listdir(load_path)):\n",
    "    \n",
    "    table = pd.read_csv(os.path.join(load_path, table_name), usecols=[\"path\", \"og:site_name\", \"lang\"], sep='\\t', quoting=csv.QUOTE_NONE)\n",
    "    table = table.dropna()\n",
    "    \n",
    "    for (site_name, lang), count in table.groupby([\"og:site_name\", \"lang\"])[\"path\"].count().iteritems():\n",
    "        \n",
    "        site_langs.setdefault(site_name, {})\n",
    "        \n",
    "        if lang not in {\"ru\", \"en\"}:\n",
    "            lang = \"other\"\n",
    "        \n",
    "        site_langs[site_name].setdefault(lang, 0)\n",
    "        site_langs[site_name][lang] += count"
   ]
  },
  {
   "cell_type": "code",
   "execution_count": 55,
   "metadata": {},
   "outputs": [
    {
     "name": "stdout",
     "output_type": "stream",
     "text": [
      "Всего 1100 таких источников\n"
     ]
    }
   ],
   "source": [
    "#Оставляем только те источники, которые содержат более статей\n",
    "\n",
    "site_langs = {site_name:langs for site_name, langs in site_langs.items() if sum(langs.values()) >= 250}\n",
    "print(f\"Всего {len(site_langs)} таких источников\")"
   ]
  },
  {
   "cell_type": "code",
   "execution_count": 56,
   "metadata": {},
   "outputs": [
    {
     "name": "stderr",
     "output_type": "stream",
     "text": [
      "100%|██████████| 1100/1100 [00:00<00:00, 1230329.17it/s]\n"
     ]
    }
   ],
   "source": [
    "#Нормируем число статей каждого языка для каждого источника\n",
    "\n",
    "for site_name, langs in tqdm(site_langs.items()):\n",
    "    \n",
    "    sum_count = sum(langs.values())\n",
    "    site_langs[site_name] = {lang:count/sum_count for lang, count in langs.items()}"
   ]
  },
  {
   "cell_type": "code",
   "execution_count": 57,
   "metadata": {},
   "outputs": [],
   "source": [
    "#Нормируем списки источников, для которых мы уверены в языке\n",
    "\n",
    "sites = {\"ru\":[], \"en\":[], \"other\":[]}\n",
    "\n",
    "for site_name, langs in site_langs.items():\n",
    "    for lang, weight in langs.items():\n",
    "        \n",
    "        if weight > 0.99:\n",
    "            sites[lang].append(site_name)\n",
    "            break"
   ]
  },
  {
   "cell_type": "code",
   "execution_count": 58,
   "metadata": {},
   "outputs": [],
   "source": [
    "#Сохраняем списки\n",
    "\n",
    "for lang, lang_sites in sites.items():\n",
    "    with open(f\"../lang_list/{lang}.txt\", \"w\") as fl:\n",
    "        fl.write('\\n'.join(lang_sites))"
   ]
  },
  {
   "cell_type": "code",
   "execution_count": 59,
   "metadata": {},
   "outputs": [
    {
     "name": "stdout",
     "output_type": "stream",
     "text": [
      "/home/arina/Documents/TelegramNews/lang_list\n"
     ]
    }
   ],
   "source": [
    "!realpath ../lang_list"
   ]
  },
  {
   "cell_type": "code",
   "execution_count": 60,
   "metadata": {},
   "outputs": [],
   "source": [
    "sites = dict(chain(*[[(site, lang) for site in sites] for lang, sites in sites.items()]))"
   ]
  },
  {
   "cell_type": "code",
   "execution_count": 62,
   "metadata": {},
   "outputs": [
    {
     "name": "stderr",
     "output_type": "stream",
     "text": [
      "100%|██████████| 25/25 [01:17<00:00,  2.05s/it]\n"
     ]
    }
   ],
   "source": [
    "#Скоректируем языки с учётом списков\n",
    "\n",
    "load_path = \"/eee/tgnews/meta/all_lang\"\n",
    "dump_path = \"/eee/tgnews/meta/all_lang_list\"\n",
    "\n",
    "for table_name in tqdm(os.listdir(load_path)):\n",
    "    \n",
    "    table = pd.read_csv(os.path.join(load_path, table_name), sep='\\t', keep_default_na=False, quoting=csv.QUOTE_NONE)\n",
    "    \n",
    "    table[\"lang\"] = table[\"lang\"].apply(lambda x: x if x in {\"ru\", \"en\"} else \"other\")\n",
    "    table[\"lang\"] = table.apply(lambda x: sites[x[\"og:site_name\"]] if x[\"og:site_name\"] in sites else x[\"lang\"] , axis=1)\n",
    "    \n",
    "    table.to_csv(os.path.join(dump_path, table_name), sep='\\t', index=False, quoting=csv.QUOTE_NONE)"
   ]
  },
  {
   "cell_type": "code",
   "execution_count": 71,
   "metadata": {},
   "outputs": [
    {
     "name": "stderr",
     "output_type": "stream",
     "text": [
      "100%|██████████| 25/25 [00:25<00:00,  1.42it/s]\n"
     ]
    }
   ],
   "source": [
    "#Разделяем на языки и сохраняем в разные таблицы\n",
    "\n",
    "load_path = \"/eee/tgnews/meta/all_lang_list\"\n",
    "dump_path = \"/eee/tgnews/meta/\"\n",
    "\n",
    "table_ru = []\n",
    "table_en = []\n",
    "\n",
    "for table_name in tqdm(os.listdir(load_path)):\n",
    "    \n",
    "    table = pd.read_csv(os.path.join(load_path, table_name), sep='\\t', keep_default_na=False, quoting=csv.QUOTE_NONE)\n",
    "    \n",
    "    table_ru.append(table[table[\"lang\"] == \"ru\"])\n",
    "    table_en.append(table[table[\"lang\"] == \"en\"])\n",
    "    \n",
    "table_ru = pd.concat(table_ru, axis=0, ignore_index=True, sort=False).drop(columns=\"lang\")\n",
    "table_en = pd.concat(table_en, axis=0, ignore_index=True, sort=False).drop(columns=\"lang\")\n",
    "\n",
    "table_ru.to_csv(os.path.join(dump_path, \"ru.tsv\"), sep='\\t', index=False, quoting=csv.QUOTE_NONE)\n",
    "table_en.to_csv(os.path.join(dump_path, \"en.tsv\"), sep='\\t', index=False, quoting=csv.QUOTE_NONE)"
   ]
  },
  {
   "cell_type": "code",
   "execution_count": 72,
   "metadata": {},
   "outputs": [
    {
     "data": {
      "text/plain": [
       "(266102, 233388)"
      ]
     },
     "execution_count": 72,
     "metadata": {},
     "output_type": "execute_result"
    }
   ],
   "source": [
    "len(table_ru), len(table_en)"
   ]
  }
 ],
 "metadata": {
  "kernelspec": {
   "display_name": "Python 3",
   "language": "python",
   "name": "python3"
  },
  "language_info": {
   "codemirror_mode": {
    "name": "ipython",
    "version": 3
   },
   "file_extension": ".py",
   "mimetype": "text/x-python",
   "name": "python",
   "nbconvert_exporter": "python",
   "pygments_lexer": "ipython3",
   "version": "3.6.9"
  }
 },
 "nbformat": 4,
 "nbformat_minor": 4
}
